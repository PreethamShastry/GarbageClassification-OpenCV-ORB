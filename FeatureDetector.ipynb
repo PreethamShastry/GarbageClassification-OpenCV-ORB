{
 "cells": [
  {
   "cell_type": "code",
   "execution_count": 1,
   "id": "5302d14e-51e2-4db7-8aba-c98f2c8ca403",
   "metadata": {},
   "outputs": [],
   "source": [
    "import cv2\n",
    "import numpy as np"
   ]
  },
  {
   "cell_type": "code",
   "execution_count": 10,
   "id": "d3ab7d47-4ac0-4c6e-8a89-2c6fe7f3c1ae",
   "metadata": {},
   "outputs": [],
   "source": [
    "img1 = cv2.imread('Train2/images/paper14.jpg',0)\n",
    "img5 = cv2.imread('Train2/images/paper15.jpg',0)\n",
    "# img2 = cv2.imread('minigarb/train/paper_box.jpeg',0)\n",
    "#zero basically imports it in grayscale\n"
   ]
  },
  {
   "cell_type": "code",
   "execution_count": 11,
   "id": "ed1adf1b-7a87-4c9e-bd9c-83b8189a850f",
   "metadata": {},
   "outputs": [],
   "source": [
    "orb = cv2.ORB_create(nfeatures=500)"
   ]
  },
  {
   "cell_type": "code",
   "execution_count": 12,
   "id": "8e4ed9c1-5917-44a6-9b20-0d67c0d163b6",
   "metadata": {},
   "outputs": [
    {
     "name": "stdout",
     "output_type": "stream",
     "text": [
      "[103  57 216  68 122 147  78 162  51 160 174 232  17  50 198 242  79 254\n",
      " 252 202  77  90 197  41  62 175 165 191  45 177  74   4]\n",
      "(500, 32)\n"
     ]
    }
   ],
   "source": [
    "kp1,des1 = orb.detectAndCompute(img1,None)\n",
    "kp2,des2 = orb.detectAndCompute(img5,None)\n",
    "print(des1[0])\n",
    "print(des1.shape) "
   ]
  },
  {
   "cell_type": "code",
   "execution_count": 13,
   "id": "00c0e18b-b7b9-46fc-bfec-7e0323edb462",
   "metadata": {},
   "outputs": [],
   "source": [
    "imgKp1 = cv2.drawKeypoints(img1,kp1,None)\n",
    "imgKp2 = cv2.drawKeypoints(img5,kp2,None)"
   ]
  },
  {
   "cell_type": "code",
   "execution_count": 14,
   "id": "9078e372-3f9f-4ebd-bbf2-08a658e82087",
   "metadata": {},
   "outputs": [],
   "source": [
    "bf = cv2.BFMatcher()\n",
    "matches = bf.knnMatch(des1,des2,k=2)\n"
   ]
  },
  {
   "cell_type": "code",
   "execution_count": 15,
   "id": "12baea38-83e1-4b1c-9038-e2f50a99048b",
   "metadata": {},
   "outputs": [
    {
     "name": "stdout",
     "output_type": "stream",
     "text": [
      "6\n"
     ]
    }
   ],
   "source": [
    "good = []\n",
    "for m,n in matches:\n",
    "    if m.distance < 0.75*n.distance:\n",
    "        good.append([m])\n",
    "\n",
    "img3 = cv2.drawMatchesKnn(img1,kp1,img5,kp2,good,None,flags=2)\n",
    "print(len(good))"
   ]
  },
  {
   "cell_type": "code",
   "execution_count": null,
   "id": "719bb4a2-8783-479d-a042-39f00d4360f4",
   "metadata": {},
   "outputs": [],
   "source": [
    "cv2.imshow('image3',img3)\n",
    "cv2.waitKey(0)"
   ]
  },
  {
   "cell_type": "code",
   "execution_count": 12,
   "id": "f7120dec-1a61-493f-a3e1-224089cf0365",
   "metadata": {},
   "outputs": [
    {
     "data": {
      "text/plain": [
       "-1"
      ]
     },
     "execution_count": 12,
     "metadata": {},
     "output_type": "execute_result"
    }
   ],
   "source": [
    "cv2.imshow('Kp1',imgKp1)\n",
    "cv2.waitKey(0)"
   ]
  },
  {
   "cell_type": "code",
   "execution_count": 10,
   "id": "2a13e3f3-9607-4718-8cec-c4081ff9ae3e",
   "metadata": {},
   "outputs": [
    {
     "data": {
      "text/plain": [
       "-1"
      ]
     },
     "execution_count": 10,
     "metadata": {},
     "output_type": "execute_result"
    }
   ],
   "source": [
    "cv2.imshow('Kp1',imgKp2)\n",
    "cv2.waitKey(0)"
   ]
  },
  {
   "cell_type": "code",
   "execution_count": 11,
   "id": "83d974d2-5fb4-4407-bac3-80801f21d00f",
   "metadata": {},
   "outputs": [
    {
     "data": {
      "text/plain": [
       "-1"
      ]
     },
     "execution_count": 11,
     "metadata": {},
     "output_type": "execute_result"
    }
   ],
   "source": [
    "cv2.imshow('image1',img1)\n",
    "cv2.waitKey(0)"
   ]
  },
  {
   "cell_type": "code",
   "execution_count": 12,
   "id": "553d0cbd-f534-48a4-afb4-786c838e0927",
   "metadata": {},
   "outputs": [
    {
     "ename": "NameError",
     "evalue": "name 'img2' is not defined",
     "output_type": "error",
     "traceback": [
      "\u001b[1;31m---------------------------------------------------------------------------\u001b[0m",
      "\u001b[1;31mNameError\u001b[0m                                 Traceback (most recent call last)",
      "Cell \u001b[1;32mIn[12], line 1\u001b[0m\n\u001b[1;32m----> 1\u001b[0m cv2\u001b[38;5;241m.\u001b[39mimshow(\u001b[38;5;124m'\u001b[39m\u001b[38;5;124mimage2\u001b[39m\u001b[38;5;124m'\u001b[39m,img2)\n\u001b[0;32m      2\u001b[0m cv2\u001b[38;5;241m.\u001b[39mwaitKey(\u001b[38;5;241m0\u001b[39m)\n",
      "\u001b[1;31mNameError\u001b[0m: name 'img2' is not defined"
     ]
    }
   ],
   "source": [
    "cv2.imshow('image2',img2)\n",
    "cv2.waitKey(0)"
   ]
  },
  {
   "cell_type": "code",
   "execution_count": 127,
   "id": "af8c3534-4482-44cd-bcaa-bfab27abadec",
   "metadata": {},
   "outputs": [],
   "source": [
    "# import os\n",
    "\n",
    "# folder_path = 'minigarb/test'\n",
    "\n",
    "# # Get a list of image file names\n",
    "# image_files = os.listdir(folder_path)\n",
    "\n",
    "# # Display the name of each image\n",
    "# for img_name in image_files:\n",
    "#     print(\"Image name:\", img_name)"
   ]
  },
  {
   "cell_type": "code",
   "execution_count": 4,
   "id": "bb9efa63-7289-4445-9da1-da9925ce7a06",
   "metadata": {},
   "outputs": [
    {
     "name": "stdout",
     "output_type": "stream",
     "text": [
      "['IMG-20240831-WA0035.jpg', 'IMG-20240831-WA0036.jpg', 'IMG-20240831-WA0041.jpg', 'IMG-20240831-WA0042.jpg', 'IMG-20240831-WA0046.jpg', 'IMG-20240831-WA0047.jpg', 'IMG-20240831-WA0050.jpg', 'IMG-20240831-WA0051.jpg', 'IMG-20240831-WA0053.jpg', 'IMG-20240831-WA0054.jpg', 'IMG-20240831-WA0055.jpg', 'IMG-20240831-WA0058.jpg', 'IMG-20240831-WA0059.jpg', 'IMG-20240831-WA0063.jpg', 'IMG-20240831-WA0078.jpg', 'IMG-20240831-WA0080.jpg', 'plasric2.jpg', 'plastic1.jpg', 'plastic101.jpg', 'plastic11.jpg', 'plastic125.jpg', 'plastic128.jpg', 'plastic134.jpg', 'plastic14.jpg', 'plastic165.jpg', 'plastic169.jpg', 'plastic193.jpg', 'plastic208.jpg', 'plastic218.jpg', 'plastic235.jpg', 'plastic236.jpg', 'plastic291.jpg', 'plastic3.jpg', 'plastic32.jpg', 'plastic340.jpg', 'plastic346.jpg', 'plastic36.jpg', 'plastic4.jpg', 'plastic476.jpg', 'plastic5.jpg', 'plastic6.jpg', 'plastic60.jpg', 'plastic64.jpg', 'plastic69.jpg', 'plastic7.jpg', 'plastic8.jpg', 'plastic80.jpg', 'plastic88.jpg']\n",
      "total classes: 48\n"
     ]
    }
   ],
   "source": [
    "import os\n",
    "\n",
    "path = 'Research_dataset/images/Train2/plastic'\n",
    "images = []\n",
    "classNames = []\n",
    "\n",
    "myList = os.listdir(path)\n",
    "print(myList)\n",
    "print(\"total classes:\",len(myList))"
   ]
  },
  {
   "cell_type": "code",
   "execution_count": 5,
   "id": "7148a913-f610-4b37-8bcd-4c2011b3980b",
   "metadata": {},
   "outputs": [
    {
     "name": "stdout",
     "output_type": "stream",
     "text": [
      "['IMG-20240831-WA0035', 'IMG-20240831-WA0036', 'IMG-20240831-WA0041', 'IMG-20240831-WA0042', 'IMG-20240831-WA0046', 'IMG-20240831-WA0047', 'IMG-20240831-WA0050', 'IMG-20240831-WA0051', 'IMG-20240831-WA0053', 'IMG-20240831-WA0054', 'IMG-20240831-WA0055', 'IMG-20240831-WA0058', 'IMG-20240831-WA0059', 'IMG-20240831-WA0063', 'IMG-20240831-WA0078', 'IMG-20240831-WA0080', 'plasric2', 'plastic1', 'plastic101', 'plastic11', 'plastic125', 'plastic128', 'plastic134', 'plastic14', 'plastic165', 'plastic169', 'plastic193', 'plastic208', 'plastic218', 'plastic235', 'plastic236', 'plastic291', 'plastic3', 'plastic32', 'plastic340', 'plastic346', 'plastic36', 'plastic4', 'plastic476', 'plastic5', 'plastic6', 'plastic60', 'plastic64', 'plastic69', 'plastic7', 'plastic8', 'plastic80', 'plastic88']\n"
     ]
    }
   ],
   "source": [
    "for cl in myList:\n",
    "    imgCur = cv2.imread(f'{path}/{cl}',0)\n",
    "    images.append(imgCur)\n",
    "    classNames.append(os.path.splitext(cl)[0])\n",
    "print(classNames)"
   ]
  },
  {
   "cell_type": "code",
   "execution_count": 6,
   "id": "62cbf549-9f6e-4b39-a729-8fe4b04e1304",
   "metadata": {},
   "outputs": [],
   "source": [
    "def findDes(images):\n",
    "    desList = []\n",
    "    for img in images:\n",
    "        kp,des = orb.detectAndCompute(img,None)\n",
    "        desList.append(des)\n",
    "    return desList\n",
    "\n",
    "\n"
   ]
  },
  {
   "cell_type": "code",
   "execution_count": 7,
   "id": "e73ff435-46e5-48ec-8d8b-cd3501dd619f",
   "metadata": {},
   "outputs": [],
   "source": [
    "def findID(img,desList,thres=10):\n",
    "    kp2,des2 = orb.detectAndCompute(img,None)\n",
    "    bf = cv2.BFMatcher()\n",
    "    matchList = []\n",
    "    finalVal = -1\n",
    "    try:\n",
    "        for des in desList:\n",
    "            matches = bf.knnMatch(des,des2,k=2)\n",
    "            good = []\n",
    "            for m,n in matches:\n",
    "                if m.distance < 0.77*n.distance:\n",
    "                    good.append([m])\n",
    "            matchList.append(len(good))\n",
    "    except:\n",
    "        pass\n",
    "    print(matchList)\n",
    "    if len(matchList)!=0:\n",
    "        if max(matchList) > thres:\n",
    "            finalVal = matchList.index(max(matchList))\n",
    "    return finalVal\n",
    "    "
   ]
  },
  {
   "cell_type": "code",
   "execution_count": 8,
   "id": "545e2f84-3464-4619-bc85-ce276390a69f",
   "metadata": {},
   "outputs": [
    {
     "name": "stdout",
     "output_type": "stream",
     "text": [
      "48\n"
     ]
    }
   ],
   "source": [
    "desList = findDes(images)\n",
    "print(len(desList))"
   ]
  },
  {
   "cell_type": "code",
   "execution_count": null,
   "id": "a90d4378-542c-4089-8f97-5f5e133812ff",
   "metadata": {},
   "outputs": [
    {
     "name": "stdout",
     "output_type": "stream",
     "text": [
      "[6, 2, 5, 6, 1, 5, 6, 1, 6, 4, 7, 9, 8, 7, 4, 7, 9, 8, 2, 5, 6, 8, 3, 6, 2, 6, 6, 15, 7, 3, 4, 4, 6, 4, 1, 4, 4, 7, 7, 6, 8, 5, 2, 5, 6, 7, 3, 6]\n",
      "[4, 5, 4, 5, 0, 6, 3, 1, 9, 7, 1, 5, 2, 8, 3, 3, 2, 7, 4, 1, 6, 2, 5, 9, 3, 4, 3, 8, 3, 3, 7, 4, 3, 9, 1, 5, 4, 7, 3, 9, 4, 8, 4, 7, 4, 8, 8, 3]\n",
      "[7, 8, 4, 2, 1, 6, 4, 2, 7, 7, 5, 7, 7, 4, 5, 5, 7, 3, 5, 8, 5, 5, 10, 4, 6, 14, 2, 4, 7, 4, 11, 7, 6, 7, 0, 2, 0, 0, 3, 2, 13, 3, 8, 11, 6, 4, 7, 4]\n",
      "[7, 3, 3, 7, 2, 5, 4, 5, 7, 7, 5, 7, 4, 9, 8, 5, 3, 5, 1, 7, 4, 8, 7, 6, 1, 9, 7, 12, 9, 4, 6, 6, 6, 9, 1, 11, 4, 6, 5, 7, 9, 6, 9, 2, 6, 8, 9, 6]\n",
      "[0, 1, 1, 7, 0, 4, 1, 0, 2, 3, 0, 4, 5, 6, 2, 0, 4, 2, 1, 7, 5, 5, 3, 4, 3, 12, 1, 9, 3, 2, 7, 2, 3, 5, 5, 4, 2, 2, 3, 2, 1, 7, 7, 2, 2, 8, 9, 9]\n",
      "[6, 8, 5, 6, 0, 3, 5, 2, 5, 4, 11, 6, 4, 9, 7, 5, 5, 10, 4, 5, 7, 4, 1, 5, 3, 6, 8, 6, 3, 4, 10, 5, 2, 4, 0, 5, 3, 0, 2, 2, 9, 5, 4, 6, 4, 8, 5, 2]\n",
      "[4, 8, 3, 2, 1, 4, 3, 4, 6, 7, 5, 8, 5, 7, 4, 4, 3, 3, 7, 4, 4, 2, 4, 4, 7, 2, 3, 1, 5, 4, 3, 10, 5, 5, 1, 9, 6, 2, 4, 4, 2, 7, 9, 9, 6, 5, 7, 4]\n",
      "[5, 4, 4, 4, 1, 8, 3, 2, 5, 8, 7, 7, 13, 7, 0, 5, 2, 9, 4, 6, 4, 6, 2, 6, 2, 6, 3, 1, 4, 5, 6, 5, 2, 4, 0, 8, 4, 3, 7, 3, 4, 6, 4, 5, 4, 11, 5, 5]\n",
      "[6, 5, 3, 6, 0, 5, 9, 2, 7, 6, 9, 9, 9, 4, 5, 8, 3, 5, 8, 8, 2, 6, 6, 10, 3, 7, 3, 7, 4, 1, 5, 6, 2, 3, 2, 9, 8, 5, 8, 4, 5, 3, 4, 4, 6, 5, 5, 6]\n",
      "[2, 5, 0, 3, 2, 0, 3, 1, 5, 2, 3, 7, 2, 5, 5, 3, 4, 8, 3, 3, 4, 2, 2, 6, 2, 8, 2, 5, 2, 7, 2, 1, 3, 3, 1, 1, 6, 2, 2, 3, 4, 4, 4, 3, 4, 3, 5, 4]\n"
     ]
    }
   ],
   "source": [
    "import time\n",
    "\n",
    "cap  = cv2.VideoCapture(0)\n",
    "time.sleep(5)\n",
    "while True:\n",
    "    success,img2 = cap.read()\n",
    "    img_denoised = cv2.GaussianBlur(img2, (5, 5), 0) \n",
    "    imgOriginal = img2.copy()\n",
    "    img2 = cv2.cvtColor(img_denoised,cv2.COLOR_BGR2GRAY)\n",
    "    id = findID(img2,desList)\n",
    "    if id!= -1:\n",
    "        cv2.putText(imgOriginal,classNames[id],(50,50),cv2.FONT_HERSHEY_COMPLEX,1,(125,185,225),2)\n",
    "    cv2.imshow('image2',imgOriginal)\n",
    "    time.sleep(5)\n",
    "    # cv2.waitKey(200)\n",
    "    if cv2.waitKey(1) & 0xFF == ord('q'):\n",
    "        break\n",
    "    \n",
    "cap.release()\n",
    "cv2.destroyAllWindows()\n",
    "\n",
    "\n"
   ]
  },
  {
   "cell_type": "code",
   "execution_count": null,
   "id": "1e0a62ab-7336-4d97-b2a9-c1ae90de8642",
   "metadata": {},
   "outputs": [],
   "source": []
  }
 ],
 "metadata": {
  "kernelspec": {
   "display_name": "Python 3 (ipykernel)",
   "language": "python",
   "name": "python3"
  },
  "language_info": {
   "codemirror_mode": {
    "name": "ipython",
    "version": 3
   },
   "file_extension": ".py",
   "mimetype": "text/x-python",
   "name": "python",
   "nbconvert_exporter": "python",
   "pygments_lexer": "ipython3",
   "version": "3.11.7"
  }
 },
 "nbformat": 4,
 "nbformat_minor": 5
}
